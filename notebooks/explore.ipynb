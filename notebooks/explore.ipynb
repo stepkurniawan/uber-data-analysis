{
 "cells": [
  {
   "cell_type": "code",
   "execution_count": 7,
   "metadata": {},
   "outputs": [],
   "source": [
    "import pandas as pd\n",
    "\n",
    "file_path: str = \"../uber_data_analytics/data/input.csv\"\n",
    "\n",
    "\n",
    "df = pd.read_csv(\n",
    "    file_path, nrows=100, sep=\",\"\n",
    ")  # Limiting to first 100 rows for performance"
   ]
  },
  {
   "cell_type": "code",
   "execution_count": 8,
   "metadata": {},
   "outputs": [
    {
     "name": "stdout",
     "output_type": "stream",
     "text": [
      "<class 'pandas.core.frame.DataFrame'>\n",
      "RangeIndex: 100 entries, 0 to 99\n",
      "Data columns (total 21 columns):\n",
      " #   Column                             Non-Null Count  Dtype  \n",
      "---  ------                             --------------  -----  \n",
      " 0   Date                               100 non-null    object \n",
      " 1   Time                               100 non-null    object \n",
      " 2   Booking ID                         100 non-null    object \n",
      " 3   Booking Status                     100 non-null    object \n",
      " 4   Customer ID                        100 non-null    object \n",
      " 5   Vehicle Type                       100 non-null    object \n",
      " 6   Pickup Location                    100 non-null    object \n",
      " 7   Drop Location                      100 non-null    object \n",
      " 8   Avg VTAT                           93 non-null     float64\n",
      " 9   Avg CTAT                           67 non-null     float64\n",
      " 10  Cancelled Rides by Customer        6 non-null      float64\n",
      " 11  Reason for cancelling by Customer  6 non-null      object \n",
      " 12  Cancelled Rides by Driver          20 non-null     float64\n",
      " 13  Driver Cancellation Reason         20 non-null     object \n",
      " 14  Incomplete Rides                   10 non-null     float64\n",
      " 15  Incomplete Rides Reason            10 non-null     object \n",
      " 16  Booking Value                      67 non-null     float64\n",
      " 17  Ride Distance                      67 non-null     float64\n",
      " 18  Driver Ratings                     57 non-null     float64\n",
      " 19  Customer Rating                    57 non-null     float64\n",
      " 20  Payment Method                     67 non-null     object \n",
      "dtypes: float64(9), object(12)\n",
      "memory usage: 16.5+ KB\n"
     ]
    }
   ],
   "source": [
    "df.info()"
   ]
  },
  {
   "cell_type": "code",
   "execution_count": null,
   "metadata": {},
   "outputs": [],
   "source": []
  }
 ],
 "metadata": {
  "kernelspec": {
   "display_name": ".venv",
   "language": "python",
   "name": "python3"
  },
  "language_info": {
   "codemirror_mode": {
    "name": "ipython",
    "version": 3
   },
   "file_extension": ".py",
   "mimetype": "text/x-python",
   "name": "python",
   "nbconvert_exporter": "python",
   "pygments_lexer": "ipython3",
   "version": "3.13.1"
  }
 },
 "nbformat": 4,
 "nbformat_minor": 2
}
